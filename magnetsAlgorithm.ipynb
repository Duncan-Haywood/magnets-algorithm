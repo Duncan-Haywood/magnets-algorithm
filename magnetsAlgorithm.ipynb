{
 "cells": [
  {
   "cell_type": "code",
   "execution_count": null,
   "metadata": {},
   "outputs": [],
   "source": [
    "def linearValidityCheck(placements, requirementPositions):\n",
    "    # todo\n",
    "    isWorking = isWorking()\n",
    "    return isWorking"
   ]
  },
  {
   "cell_type": "code",
   "execution_count": 1,
   "metadata": {},
   "outputs": [],
   "source": [
    "def linearPlacementsSearch(requirementPositions):\n",
    "    # we manipulate requirementPositions though we can just do a copy here. \n",
    "    # we return requirementPositions, placements\n",
    "    # there is plenty of space for additional optimization here which can be done at the expense of increased complexity in code.\n",
    "    \n",
    "    placements, toPlaceIndecies = list(), list()\n",
    "    toPlaceCoordinates = findToPlaceIndecies(requirementPositions)\n",
    "    requirementPositions, placements, toPlaceIndecies = backwardCheck(requirementPositions, placements, toPlaceCoordinates)\n",
    "    requirementPositions, placements, toPlaceIndecies = forwardCheck(requirementPositions, placements, toPlaceCoordinates)\n",
    "    requirementPositions, placements, toPlaceIndecies = DFS(requirementPositions, placements, toPlaceCoordinates)\n",
    "    # to switch DFS to DFSWithIterativeLogicChecks() for faster run time\n",
    "    return placements"
   ]
  },
  {
   "cell_type": "code",
   "execution_count": null,
   "metadata": {},
   "outputs": [],
   "source": [
    "def forwardCheck(requirementPositions, placements, toPlaceIndecies):\n",
    "    for indexToCheck in range(len(toPlaceIndecies)):\n",
    "        requirementPositions, placements, toPlaceIndecies = logicCheckAndPlace(requirementPositions, placements, toPlaceCoordinates, coordinateToCheckIndex)\n",
    "    return requirementPositions, placements, toPlaceCoordinates"
   ]
  },
  {
   "cell_type": "code",
   "execution_count": null,
   "metadata": {},
   "outputs": [],
   "source": [
    "def backwardCheck(requirementPositions, placements, toPlaceIndecies):\n",
    "    for indexToCheck in range(1, len(toPlaceIndecies)+1):\n",
    "        # moving from the back of the list to the front\n",
    "        indexToCheck = -1 * indexToCheck        \n",
    "        requirementPositions, placements, toPlaceIndecies = logicCheckAndPlace(requirementPositions, placements, toPlaceCoordinates, coordinateToCheckIndex)\n",
    "    return requirementPositions, placements, toPlaceCoordinates"
   ]
  },
  {
   "cell_type": "code",
   "execution_count": null,
   "metadata": {},
   "outputs": [],
   "source": [
    "def DFS(requirementPositions, placements, toPlaceCoordinates):\n",
    "    # todo\n",
    "    prep()\n",
    "    baseCase()\n",
    "    DFS(middle)\n",
    "    DFS(left)\n",
    "    DFS(right)\n",
    "    returnHandlingCase()\n",
    "    return requirementPositions, placements, toPlaceCoordinates\n",
    "    "
   ]
  },
  {
   "cell_type": "code",
   "execution_count": null,
   "metadata": {},
   "outputs": [],
   "source": [
    "def logicCheckAndPlace(requirementPositions, placements, toPlaceCoordinates, coordinateToCheckIndex):\n",
    "    coordinatesToCheck =  toPlaceCoordinates[coordinateToCheckIndex]\n",
    "    possiblePlacements = logicSearch(requirementPositions, placements, coordinatesToCheck)\n",
    "    requirementPositions, placements, toPlaceCoordinates = place(requirementPositions, placements, toPlaceCoordinates, possiblePlacements)\n",
    "    return requirementPositions, placements, toPlaceCoordinates"
   ]
  },
  {
   "cell_type": "code",
   "execution_count": null,
   "metadata": {},
   "outputs": [],
   "source": [
    "def place(requirementPositions, placements, toPlaceCoordinates, possiblePlacements):\n",
    "    # todo\n",
    "    # check whether possiblePlacements can be placed, and updates all the information\n",
    "    return requirementPositions, placements, toPlaceCoordinates"
   ]
  },
  {
   "cell_type": "code",
   "execution_count": null,
   "metadata": {},
   "outputs": [],
   "source": [
    "def logicSearch(requirementPositions, placements, coordinatesToCheck):\n",
    "    # todo\n",
    "    possiblePlacements = list()\n",
    "    # search all the determinative logic cases (~20)\n",
    "    return possiblePlacements"
   ]
  }
 ],
 "metadata": {
  "kernelspec": {
   "display_name": "Python 3",
   "language": "python",
   "name": "python3"
  },
  "language_info": {
   "codemirror_mode": {
    "name": "ipython",
    "version": 3
   },
   "file_extension": ".py",
   "mimetype": "text/x-python",
   "name": "python",
   "nbconvert_exporter": "python",
   "pygments_lexer": "ipython3",
   "version": "3.7.6"
  }
 },
 "nbformat": 4,
 "nbformat_minor": 4
}
